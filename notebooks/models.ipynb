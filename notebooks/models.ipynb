{
 "cells": [
  {
   "cell_type": "code",
   "execution_count": null,
   "metadata": {},
   "outputs": [],
   "source": [
    "import pandas as pd\n",
    "import numpy as np\n",
    "from src.helpers import build_data_frame\n",
    "from sklearn.model_selection import train_test_split, GridSearchCV\n",
    "import xgboost as xgb\n",
    "from xgboost.sklearn import XGBRegressor\n",
    "from xgboost import plot_importance\n",
    "from sklearn.ensemble import RandomForestRegressor\n",
    "from sklearn.metrics import mean_squared_error\n",
    "import seaborn as sns\n",
    "from sklearn.linear_model import LinearRegression, Lasso, LassoCV, Ridge, RidgeCV\n",
    "import shap\n",
    "import matplotlib.pyplot as plt\n",
    "%matplotlib inline"
   ]
  },
  {
   "cell_type": "code",
   "execution_count": null,
   "metadata": {},
   "outputs": [],
   "source": [
    "listings = build_data_frame()"
   ]
  },
  {
   "cell_type": "code",
   "execution_count": null,
   "metadata": {},
   "outputs": [],
   "source": [
    "listings.head()"
   ]
  },
  {
   "cell_type": "code",
   "execution_count": null,
   "metadata": {},
   "outputs": [],
   "source": [
    "listings = listings[listings['price'] < 500]"
   ]
  },
  {
   "cell_type": "code",
   "execution_count": null,
   "metadata": {},
   "outputs": [],
   "source": [
    "# drop_cols = ['latitude', \n",
    "#              'longitude',\n",
    "#              'neighbourhood_cleansed_Havering',\n",
    "#              '\"Espresso machine\"',\n",
    "#              'neighbourhood_cleansed_Bexley',\n",
    "#              'neighbourhood_cleansed_Hillingdon',\n",
    "#              '\"Security system\"',\n",
    "#              '\"Balcony\"',\n",
    "#              '\"Dining area for 8 people\"',\n",
    "#              '\"Terrace\"',\n",
    "#              '\"Chef\\'s kitchen\"',\n",
    "#              '\"Ironing board\"']\n",
    "# for col in drop_cols:\n",
    "#     try:\n",
    "#         listings.pop(col)\n",
    "#     except:\n",
    "#         continue"
   ]
  },
  {
   "cell_type": "code",
   "execution_count": null,
   "metadata": {},
   "outputs": [],
   "source": [
    "listings.head()"
   ]
  },
  {
   "cell_type": "code",
   "execution_count": null,
   "metadata": {},
   "outputs": [],
   "source": [
    "listings.info()"
   ]
  },
  {
   "cell_type": "code",
   "execution_count": null,
   "metadata": {},
   "outputs": [],
   "source": [
    "y = listings['price']\n",
    "listings_copy = listings.copy()\n",
    "X = listings_copy.drop('price', axis=1)\n",
    "X_train, X_test, y_train, y_test= train_test_split(X, y, test_size=.2, shuffle=True, random_state=0)\n",
    "X_train.shape, X_test.shape"
   ]
  },
  {
   "cell_type": "code",
   "execution_count": null,
   "metadata": {},
   "outputs": [],
   "source": [
    "rf = RandomForestRegressor(max_depth=None,\n",
    "                          max_features='sqrt',\n",
    "                          n_estimators=1000,\n",
    "                          random_state=1,\n",
    "                          n_jobs=-1)\n",
    "\n",
    "rf.fit(X_train, y_train)"
   ]
  },
  {
   "cell_type": "code",
   "execution_count": null,
   "metadata": {},
   "outputs": [],
   "source": [
    "# get importance\n",
    "importance = rf.feature_importances_\n",
    "# summarize feature importance\n",
    "for i,v in enumerate(importance):\n",
    "    print('Feature: %0d, Score: %.5f' % (i,v))"
   ]
  },
  {
   "cell_type": "code",
   "execution_count": null,
   "metadata": {},
   "outputs": [],
   "source": [
    "# plot feature importance\n",
    "plt.bar([x for x in range(len(importance))], importance)\n",
    "plt.show()"
   ]
  },
  {
   "cell_type": "code",
   "execution_count": null,
   "metadata": {
    "scrolled": true
   },
   "outputs": [],
   "source": [
    "rf_test_pred = rf.predict(X_test)\n",
    "#print('Test MSE:', round(mean_squared_error(y_test, rf_test_pred),2))\n",
    "print('Test RMSE: $', round(np.sqrt(mean_squared_error(y_test, rf_test_pred)),2))"
   ]
  },
  {
   "cell_type": "code",
   "execution_count": null,
   "metadata": {},
   "outputs": [],
   "source": [
    "# rf \n",
    "explainer = shap.TreeExplainer(rf)\n",
    "shap_values = explainer.shap_values(X_test)\n",
    "shap.summary_plot(shap_values, X_test, plot_type=\"bar\")"
   ]
  },
  {
   "cell_type": "code",
   "execution_count": null,
   "metadata": {},
   "outputs": [],
   "source": []
  },
  {
   "cell_type": "code",
   "execution_count": null,
   "metadata": {},
   "outputs": [],
   "source": []
  },
  {
   "cell_type": "code",
   "execution_count": null,
   "metadata": {},
   "outputs": [],
   "source": [
    "fig, ax = plt.subplots()\n",
    "ax.plot(y_test, rf_test_pred, '.')\n",
    "ax.set_xlabel('Target')\n",
    "ax.set_ylabel('Prediction')"
   ]
  },
  {
   "cell_type": "code",
   "execution_count": null,
   "metadata": {},
   "outputs": [],
   "source": [
    "plt.figure(figsize=(10, 8))\n",
    "plt.plot([0,400], [0,400], c='navy')\n",
    "plt.scatter(rf_test_pred, y_test, color='deepskyblue', alpha=0.4)\n",
    "sns.despine()\n",
    "plt.xticks(np.arange(0, 500, 100))\n",
    "plt.ylabel('Actual Price', size=15)\n",
    "plt.xlabel('Predicted Price', size=15)\n",
    "plt.title('Random Forest', size=18);"
   ]
  },
  {
   "cell_type": "code",
   "execution_count": null,
   "metadata": {},
   "outputs": [],
   "source": []
  },
  {
   "cell_type": "code",
   "execution_count": null,
   "metadata": {},
   "outputs": [],
   "source": []
  },
  {
   "cell_type": "code",
   "execution_count": null,
   "metadata": {},
   "outputs": [],
   "source": []
  },
  {
   "cell_type": "code",
   "execution_count": null,
   "metadata": {},
   "outputs": [],
   "source": []
  },
  {
   "cell_type": "code",
   "execution_count": null,
   "metadata": {},
   "outputs": [],
   "source": [
    "xgb1 = XGBRegressor()\n",
    "parameters = {'nthread':[4], #when use hyperthread, xgboost may become slower\n",
    "              'objective':['reg:squarederror'],\n",
    "              'learning_rate': [.02, .03], #so called `eta` value\n",
    "              'max_depth': [6, 7, 8],\n",
    "              'min_child_weight': [3, 4],\n",
    "              'silent': [1],\n",
    "              'subsample': [0.6, 0.7],\n",
    "              'colsample_bytree': [0.6, 0.7],\n",
    "              'n_estimators': [300, 500]}\n"
   ]
  },
  {
   "cell_type": "code",
   "execution_count": null,
   "metadata": {},
   "outputs": [],
   "source": [
    "xgb_grid = GridSearchCV(xgb1,\n",
    "                        parameters,\n",
    "                        cv = 2,\n",
    "                        n_jobs = -1)"
   ]
  },
  {
   "cell_type": "code",
   "execution_count": null,
   "metadata": {},
   "outputs": [],
   "source": [
    "# xgb_grid.fit(X_train, y_train)"
   ]
  },
  {
   "cell_type": "code",
   "execution_count": null,
   "metadata": {},
   "outputs": [],
   "source": [
    "print(xgb_grid.best_score_)\n",
    "print(xgb_grid.best_params_)"
   ]
  },
  {
   "cell_type": "code",
   "execution_count": null,
   "metadata": {},
   "outputs": [],
   "source": [
    "gbm = xgb.XGBRegressor(colsample_bytree= 0.7,\n",
    "                       n_estimators=500,\n",
    "                       max_depth=7,\n",
    "                       objective=\"reg:squarederror\",\n",
    "                       learning_rate=.03, \n",
    "                       subsample=0.8,\n",
    "                       min_child_weight=4,\n",
    "                       nthread= 4,\n",
    "                       silent= 1)\n",
    "    \n",
    "eval_set=[(X_train,y_train),(X_test,y_test)]\n",
    "\n",
    "xgb_reg = gbm.fit( \n",
    "                    X_train, y_train, \n",
    "                    eval_set=eval_set,\n",
    "                    eval_metric='rmse',\n",
    "                    early_stopping_rounds=20)"
   ]
  },
  {
   "cell_type": "code",
   "execution_count": null,
   "metadata": {
    "scrolled": true
   },
   "outputs": [],
   "source": [
    "xgb_test_pred = xgb_reg.predict(X_test)\n",
    "print('Test MSE:', round(mean_squared_error(y_test, xgb_test_pred),4))\n",
    "print('Test RMSE:', round(np.sqrt(mean_squared_error(y_test, xgb_test_pred)),4))"
   ]
  },
  {
   "cell_type": "code",
   "execution_count": null,
   "metadata": {},
   "outputs": [],
   "source": [
    "fig, ax = plt.subplots()\n",
    "ax.plot(y_test, xgb_test_pred, '.')\n",
    "ax.set_xlabel('Target')\n",
    "ax.set_ylabel('Prediction')"
   ]
  },
  {
   "cell_type": "code",
   "execution_count": null,
   "metadata": {
    "scrolled": false
   },
   "outputs": [],
   "source": [
    "plt.figure(figsize=(10, 8))\n",
    "plt.plot([0,400], [0,400], c='navy')\n",
    "plt.scatter(xgb_test_pred, y_test, color='deepskyblue', alpha=0.4)\n",
    "sns.despine()\n",
    "plt.xticks(np.arange(0, 500, 100))\n",
    "plt.ylabel('Actual Price', size=15)\n",
    "plt.xlabel('Predicted Price', size=15)\n",
    "plt.title('XGBoost', size=18);"
   ]
  },
  {
   "cell_type": "code",
   "execution_count": null,
   "metadata": {},
   "outputs": [],
   "source": []
  },
  {
   "cell_type": "code",
   "execution_count": null,
   "metadata": {},
   "outputs": [],
   "source": [
    "lr = LinearRegression() \n",
    "\n",
    "lr.fit(X_train, y_train)\n",
    "\n",
    "lr_train_pred = lr.predict(X_train)\n",
    "lr_test_pred = lr.predict(X_test)\n",
    "\n",
    "print(f'Linear Regression train R^2: {lr.score(X_train, y_train)}')\n",
    "print(f'Linear Regression val R^2: {lr.score(X_test, y_test)}')\n",
    "\n",
    "#print(\"\\nTraining MSE:\", round(mean_squared_error(y_train, lr_train_pred),4))\n",
    "print(\"\\n \\nTest MSE:\", round(mean_squared_error(y_test, lr_test_pred),4))\n",
    "\n",
    "# print(\"\\nTraining RMSE:\", np.sqrt(mean_squared_error(y_train, train_pred),4))\n",
    "print(\"Test RMSE:\", round(np.sqrt(mean_squared_error(y_test, lr_test_pred)),4))"
   ]
  },
  {
   "cell_type": "code",
   "execution_count": null,
   "metadata": {
    "scrolled": false
   },
   "outputs": [],
   "source": [
    "plt.figure(figsize=(10, 8))\n",
    "plt.plot([0,400], [0,400], c='navy')\n",
    "plt.scatter(lr_test_pred, y_test, color='deepskyblue', alpha=0.4)\n",
    "sns.despine()\n",
    "plt.xticks(np.arange(0, 500, 100))\n",
    "plt.ylabel('Actual Price', size=15)\n",
    "plt.xlabel('Predicted Price', size=15)\n",
    "plt.title('Linear Regression', size=18);\n",
    "#plt.savefig('actual_plot', bbox_inches ='tight', dpi = 400)"
   ]
  },
  {
   "cell_type": "code",
   "execution_count": null,
   "metadata": {},
   "outputs": [],
   "source": [
    "coef_list = sorted(list(zip(X_train.columns, lr.coef_)), key= lambda x : x[1])\n",
    "\n",
    "x_values = [x[0] for x in coef_list]\n",
    "y_values = [y[1] for y in coef_list]\n",
    "\n",
    "fig, ax = plt.subplots(figsize=(15,15))\n",
    "ax = sns.barplot(x=y_values, y=x_values, palette=(\"husl\"))\n",
    "ax.set_title('Regression Coefficients', size=18)\n",
    "ax.set_xlabel('Price', size=15)\n",
    "ax.set_ylabel('Features', size=15)\n",
    "#plt.savefig('features', bbox_inches ='tight', dpi = 400)"
   ]
  },
  {
   "cell_type": "code",
   "execution_count": null,
   "metadata": {},
   "outputs": [],
   "source": [
    "std = np.std([tree.feature_importances_ for tree in rf.estimators_],\n",
    "             axis=0)\n",
    "indices = np.argsort(importance)\n",
    "\n",
    "# Plot the feature importances of the forest\n",
    "fig, ax = plt.subplots(figsize=(15,15))\n",
    "ax.set_title(\"Feature importances\", size=18)\n",
    "ax = sns.barplot(x=y_values, y=x_values, palette=(\"husl\"))\n",
    "ax = sns.barh(range(X.shape[1]), importance[indices],\n",
    "       color=\"r\", xerr=std[indices], align=\"center\")\n",
    "# If you want to define your own labels,\n",
    "# change indices to a list of labels on the following line.\n",
    "plt.yticks(range(X_train.shape[1]), indices)\n",
    "plt.ylim([-1, X_train.shape[1]])\n",
    "plt.show()"
   ]
  },
  {
   "cell_type": "code",
   "execution_count": null,
   "metadata": {},
   "outputs": [],
   "source": [
    "df[df['price'] < 150].shape[0] / df['price'].shape[0] * 100"
   ]
  }
 ],
 "metadata": {
  "kernelspec": {
   "display_name": "Python 3",
   "language": "python",
   "name": "python3"
  },
  "language_info": {
   "codemirror_mode": {
    "name": "ipython",
    "version": 3
   },
   "file_extension": ".py",
   "mimetype": "text/x-python",
   "name": "python",
   "nbconvert_exporter": "python",
   "pygments_lexer": "ipython3",
   "version": "3.7.7"
  }
 },
 "nbformat": 4,
 "nbformat_minor": 4
}
